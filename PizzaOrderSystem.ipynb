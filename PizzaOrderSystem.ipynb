{
  "nbformat": 4,
  "nbformat_minor": 0,
  "metadata": {
    "colab": {
      "provenance": []
    },
    "kernelspec": {
      "name": "python3",
      "display_name": "Python 3"
    },
    "language_info": {
      "name": "python"
    }
  },
  "cells": [
    {
      "cell_type": "code",
      "execution_count": 50,
      "metadata": {
        "id": "-nmKuWKZrNU0"
      },
      "outputs": [],
      "source": [
        "#Kitaplıkları içe aktarma\n",
        "import csv\n",
        "import datetime"
      ]
    },
    {
      "cell_type": "code",
      "source": [
        "#Pizza üst sınıfı\n",
        "class Pizza:\n",
        "  def __init__(self, description, cost):\n",
        "    self.description = description\n",
        "    self.cost = cost\n",
        "#Her pizzanın kendisine ait açıklaması\n",
        "  def get_description(self):\n",
        "    return self.description\n",
        "##Her pizzanın kendisine ait fiyatı\n",
        "  def get_cost(self):\n",
        "    return self.cost"
      ],
      "metadata": {
        "id": "9CWU9U5wrNvp"
      },
      "execution_count": 51,
      "outputs": []
    },
    {
      "cell_type": "code",
      "source": [
        "#Pizza üst sınıfından özellik ve fiyat bilgisini miras alan alt pizza sınıfları\n",
        "class ClassicPizza(Pizza):\n",
        "  def __init__(self):\n",
        "    super().__init__('Classic Pizza', 12)\n",
        "\n",
        "class MargheritaPizza(Pizza):\n",
        "  def __init__(self):\n",
        "    super().__init__('Margherita Pizza', 14)\n",
        "\n",
        "class TurkishPizza(Pizza):\n",
        "  def __init__(self):\n",
        "    super().__init__('Turkish Pizza', 15)\n",
        "\n",
        "class PlainPizza(Pizza):\n",
        "  def __init__(self):\n",
        "    super().__init__('Plain Pizza', 10)"
      ],
      "metadata": {
        "id": "rpEzBnCcrN0_"
      },
      "execution_count": 52,
      "outputs": []
    },
    {
      "cell_type": "code",
      "source": [
        "#Pizza üst sınıfının özelliklerini miras alan ve tüm sos bilgilerini içeren decorator sınıfı\n",
        "class Decorator(Pizza):\n",
        "  def __init__(self, description, cost):\n",
        "    super().__init__(description, cost)\n",
        "\n",
        "#Her sosun kendi bilgilerini içeren decorator sınıfındaki özellikleri miras alan alt sınıflar\n",
        "class Olive(Decorator):\n",
        "  def __init__(self):\n",
        "    self.description = \"Olive\"\n",
        "    self.cost = 3\n",
        "\n",
        "class Corn(Decorator):\n",
        "  def __init__(self):\n",
        "    self.description = \"Corn\"\n",
        "    self.cost = 2\n",
        "\n",
        "class Mushrooms(Decorator):\n",
        "  def __init__(self):\n",
        "    self.description = \"Mushrooms\"\n",
        "    self.cost = 3\n",
        "\n",
        "class GoatCheese(Decorator):\n",
        "  def __init__(self):\n",
        "    self.description = \"Goat Cheese\"\n",
        "    self.cost = 4\n",
        "\n",
        "class Meat(Decorator):\n",
        "  def __init__(self):\n",
        "    self.description = \"Meat\"\n",
        "    self.cost = 5\n",
        "\n",
        "class Onion(Decorator):\n",
        "  def __init__(self):\n",
        "    self.description = \"Onion\"\n",
        "    self.cost = 1"
      ],
      "metadata": {
        "id": "_DWwoFUNr5vb"
      },
      "execution_count": 53,
      "outputs": []
    },
    {
      "cell_type": "code",
      "source": [
        "def Main():\n",
        "  #Menu.txt dosyasını okuyup konsola yazdırma\n",
        "  menu = open('Menu.txt')\n",
        "  print(menu.read())\n",
        "\n",
        "  #Mennu.txt dosyasındaki pizzaların seçiminin yapılması\n",
        "  pizza_choice = input('Please select your pizza: ')\n",
        "  if pizza_choice == '1':\n",
        "    pizza=ClassicPizza()\n",
        "  elif pizza_choice == '2':\n",
        "    pizza=MargheritaPizza()\n",
        "  elif pizza_choice == '3':\n",
        "    pizza=TurkishPizza()\n",
        "  elif pizza_choice == '4':\n",
        "    pizza=PlainPizza()\n",
        "  else:\n",
        "    print('Please select your pizza')\n",
        "\n",
        "  #Mennu.txt dosyasındaki sosların seçiminin yapılması\n",
        "  sauce_choice = input('Please select your sauce: ')\n",
        "  if sauce_choice == '5':\n",
        "    sauce = Olive()\n",
        "  elif sauce_choice == '6':\n",
        "    sauce = Mushrooms() \n",
        "  elif sauce_choice == '7':\n",
        "    sauce = GoatCheese()\n",
        "  elif sauce_choice == '8':\n",
        "    sauce = Meat()\n",
        "  elif sauce_choice == '9':\n",
        "    sauce = Onion()\n",
        "  elif sauce_choice == '10':\n",
        "    sauce = Corn**()\n",
        "  else:\n",
        "    print('Please select your sauce')\n",
        "\n",
        "  #Fiyat bilgisi, Zaman ve çeşitli kullanıcı bilgilerinin alınması\n",
        "  total = pizza.get_cost() + sauce.get_cost()\n",
        "  date = datetime.datetime.now()\n",
        "  name = input('Please enter your name: ')\n",
        "  tc = input('Please enter identification number: ')\n",
        "  credit = input('Please enter credit number: ')\n",
        "  cvc = input('Please enter security number: ')\n",
        "  password = input('Please enter your password: ')\n",
        "\n",
        "  #Kullanıcı seçimlerinin kayıt edildiği .csv dosyası oluşturma\n",
        "  with open('Orders_Database.csv', 'a', newline= '') as file:\n",
        "    writer = csv.writer(file)\n",
        "    writer.writerow([\"Name\", \"Tc\", \"Credit\", \"cvc\", \"Password\",'Pizza', 'Sauce',\"Total\", 'Date'])\n",
        "    writer.writerow([name, tc, credit, cvc, password, pizza.get_description(), sauce.get_description(),  total, date])\n",
        "    \n",
        "Main()"
      ],
      "metadata": {
        "id": "yMzs5Civr8LN"
      },
      "execution_count": null,
      "outputs": []
    }
  ]
}